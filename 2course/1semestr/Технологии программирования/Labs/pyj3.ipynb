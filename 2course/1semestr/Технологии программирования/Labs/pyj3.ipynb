{
 "cells": [
  {
   "cell_type": "code",
   "execution_count": 2,
   "metadata": {},
   "outputs": [
    {
     "name": "stdout",
     "output_type": "stream",
     "text": [
      "Введите количество строк: \n",
      "10\n",
      "[1]\n",
      "[1, 1]\n",
      "[1, 2, 1]\n",
      "[1, 3, 3, 1]\n",
      "[1, 4, 6, 4, 1]\n",
      "[1, 5, 10, 10, 5, 1]\n",
      "[1, 6, 15, 20, 15, 6, 1]\n",
      "[1, 7, 21, 35, 35, 21, 7, 1]\n",
      "[1, 8, 28, 56, 70, 56, 28, 8, 1]\n",
      "[1, 9, 36, 84, 126, 126, 84, 36, 9, 1]\n",
      "2\n"
     ]
    }
   ],
   "source": [
    "def current_row(n):\n",
    "    row=list()\n",
    "    for i in range(n):\n",
    "        if i==0 or i==n-1:\n",
    "            row.append(1)\n",
    "        else:\n",
    "            c_row=current_row(n-1)\n",
    "            row.append(c_row[i-1]+c_row[i])\n",
    "    return row\n",
    "\n",
    "print(\"Введите количество строк: \")\n",
    "m = int(input())\n",
    "result=list()\n",
    "for i in range(m):\n",
    "    result.append(current_row(i+1))\n",
    "for j in result:\n",
    "    print(j)\n",
    "b = input()"
   ]
  },
  {
   "cell_type": "code",
   "execution_count": null,
   "metadata": {},
   "outputs": [],
   "source": []
  }
 ],
 "metadata": {
  "kernelspec": {
   "display_name": "Python 3",
   "language": "python",
   "name": "python3"
  },
  "language_info": {
   "codemirror_mode": {
    "name": "ipython",
    "version": 3
   },
   "file_extension": ".py",
   "mimetype": "text/x-python",
   "name": "python",
   "nbconvert_exporter": "python",
   "pygments_lexer": "ipython3",
   "version": "3.8.5"
  }
 },
 "nbformat": 4,
 "nbformat_minor": 4
}
