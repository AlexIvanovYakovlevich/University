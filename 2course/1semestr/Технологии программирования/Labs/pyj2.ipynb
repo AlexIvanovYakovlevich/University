{
 "cells": [
  {
   "cell_type": "code",
   "execution_count": 1,
   "metadata": {},
   "outputs": [
    {
     "name": "stdout",
     "output_type": "stream",
     "text": [
      "Введите колличество строк\n",
      "2\n",
      "Введите колличество столбцов\n",
      "2\n",
      "Введите эллемент 0,0\n",
      "10\n",
      "Введите эллемент 0,1\n",
      "20\n",
      "Введите эллемент 1,0\n",
      "30\n",
      "Введите эллемент 1,1\n",
      "40\n",
      "[10, 20]\n",
      "[30, 40]\n",
      "Транспонированная матрица\n",
      "[[10, 30], [20, 40]]\n"
     ]
    }
   ],
   "source": [
    "def transpose(matr):\n",
    "    res=[]\n",
    "    n=len(matr)\n",
    "    m=len(matr[0])\n",
    "    for j in range(m):\n",
    "        tmp=[]\n",
    "        for i in range(n):\n",
    "            tmp=tmp+[matr[i][j]]\n",
    "        res=res+[tmp]\n",
    "    return res\n",
    "\n",
    "\n",
    "print (\"Введите колличество строк\")\n",
    "n = int (input())\n",
    "print (\"Введите колличество столбцов\")\n",
    "m = int (input())\n",
    "a = [[0] * m for i in range(n)]\n",
    "for i in range (n): \n",
    "      for j in range (m):\n",
    "          print (\"Введите эллемент \" + str(i) + \",\" + str(j))\n",
    "          a[i][j] = int(input())\n",
    "for i in a:\n",
    "    print (i, end=\"\\n\")\n",
    "print (\"Транспонированная матрица\")\n",
    "print(transpose (a))"
   ]
  },
  {
   "cell_type": "code",
   "execution_count": null,
   "metadata": {},
   "outputs": [],
   "source": []
  }
 ],
 "metadata": {
  "kernelspec": {
   "display_name": "Python 3",
   "language": "python",
   "name": "python3"
  },
  "language_info": {
   "codemirror_mode": {
    "name": "ipython",
    "version": 3
   },
   "file_extension": ".py",
   "mimetype": "text/x-python",
   "name": "python",
   "nbconvert_exporter": "python",
   "pygments_lexer": "ipython3",
   "version": "3.8.5"
  }
 },
 "nbformat": 4,
 "nbformat_minor": 4
}
